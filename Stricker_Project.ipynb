{
 "cells": [
  {
   "cell_type": "code",
   "execution_count": 1,
   "id": "68d99386-e25e-40ea-91b2-b190d9d99662",
   "metadata": {},
   "outputs": [],
   "source": [
    "import pandas as pd\n",
    "import numpy as np\n",
    "import matplotlib.pyplot as plt\n",
    "import seaborn as sns\n"
   ]
  },
  {
   "cell_type": "code",
   "execution_count": 2,
   "id": "71baf45c-1330-4f7c-86be-b20e0c46fafb",
   "metadata": {},
   "outputs": [
    {
     "data": {
      "text/html": [
       "<div>\n",
       "<style scoped>\n",
       "    .dataframe tbody tr th:only-of-type {\n",
       "        vertical-align: middle;\n",
       "    }\n",
       "\n",
       "    .dataframe tbody tr th {\n",
       "        vertical-align: top;\n",
       "    }\n",
       "\n",
       "    .dataframe thead th {\n",
       "        text-align: right;\n",
       "    }\n",
       "</style>\n",
       "<table border=\"1\" class=\"dataframe\">\n",
       "  <thead>\n",
       "    <tr style=\"text-align: right;\">\n",
       "      <th></th>\n",
       "      <th>Striker_ID</th>\n",
       "      <th>Nationality</th>\n",
       "      <th>Footedness</th>\n",
       "      <th>Marital Status</th>\n",
       "      <th>Goals Scored</th>\n",
       "      <th>Assists</th>\n",
       "      <th>Shots on Target</th>\n",
       "      <th>Shot Accuracy</th>\n",
       "      <th>Conversion Rate</th>\n",
       "      <th>Dribbling Success</th>\n",
       "      <th>Movement off the Ball</th>\n",
       "      <th>Hold-up Play</th>\n",
       "      <th>Aerial Duels Won</th>\n",
       "      <th>Defensive Contribution</th>\n",
       "      <th>Big Game Performance</th>\n",
       "      <th>Consistency</th>\n",
       "      <th>Penalty Success Rate</th>\n",
       "      <th>Impact on Team Performance</th>\n",
       "      <th>Off-field Conduct</th>\n",
       "    </tr>\n",
       "  </thead>\n",
       "  <tbody>\n",
       "    <tr>\n",
       "      <th>0</th>\n",
       "      <td>1</td>\n",
       "      <td>Spain</td>\n",
       "      <td>Left-footed</td>\n",
       "      <td>No</td>\n",
       "      <td>17.483571</td>\n",
       "      <td>10.778533</td>\n",
       "      <td>34.795488</td>\n",
       "      <td>0.677836</td>\n",
       "      <td>0.166241</td>\n",
       "      <td>0.757061</td>\n",
       "      <td>50.921924</td>\n",
       "      <td>71.806409</td>\n",
       "      <td>15.682532</td>\n",
       "      <td>30.412215</td>\n",
       "      <td>6.152481</td>\n",
       "      <td>0.820314</td>\n",
       "      <td>0.922727</td>\n",
       "      <td>8.570370</td>\n",
       "      <td>11.451388</td>\n",
       "    </tr>\n",
       "    <tr>\n",
       "      <th>1</th>\n",
       "      <td>2</td>\n",
       "      <td>France</td>\n",
       "      <td>Left-footed</td>\n",
       "      <td>Yes</td>\n",
       "      <td>14.308678</td>\n",
       "      <td>13.728250</td>\n",
       "      <td>31.472436</td>\n",
       "      <td>0.544881</td>\n",
       "      <td>0.192774</td>\n",
       "      <td>0.796818</td>\n",
       "      <td>61.396150</td>\n",
       "      <td>53.726866</td>\n",
       "      <td>19.843983</td>\n",
       "      <td>26.474913</td>\n",
       "      <td>6.093172</td>\n",
       "      <td>0.803321</td>\n",
       "      <td>0.678984</td>\n",
       "      <td>3.444638</td>\n",
       "      <td>8.243689</td>\n",
       "    </tr>\n",
       "    <tr>\n",
       "      <th>2</th>\n",
       "      <td>3</td>\n",
       "      <td>Germany</td>\n",
       "      <td>Left-footed</td>\n",
       "      <td>No</td>\n",
       "      <td>18.238443</td>\n",
       "      <td>3.804297</td>\n",
       "      <td>25.417413</td>\n",
       "      <td>0.518180</td>\n",
       "      <td>0.160379</td>\n",
       "      <td>0.666869</td>\n",
       "      <td>65.863945</td>\n",
       "      <td>60.452227</td>\n",
       "      <td>20.090084</td>\n",
       "      <td>24.164116</td>\n",
       "      <td>3.408714</td>\n",
       "      <td>0.766540</td>\n",
       "      <td>0.843858</td>\n",
       "      <td>8.429491</td>\n",
       "      <td>9.506835</td>\n",
       "    </tr>\n",
       "    <tr>\n",
       "      <th>3</th>\n",
       "      <td>4</td>\n",
       "      <td>France</td>\n",
       "      <td>Right-footed</td>\n",
       "      <td>No</td>\n",
       "      <td>22.615149</td>\n",
       "      <td>9.688908</td>\n",
       "      <td>20.471443</td>\n",
       "      <td>0.599663</td>\n",
       "      <td>0.184602</td>\n",
       "      <td>0.638776</td>\n",
       "      <td>88.876877</td>\n",
       "      <td>60.511979</td>\n",
       "      <td>22.363152</td>\n",
       "      <td>44.129989</td>\n",
       "      <td>6.339820</td>\n",
       "      <td>0.611798</td>\n",
       "      <td>0.662997</td>\n",
       "      <td>6.532552</td>\n",
       "      <td>8.199653</td>\n",
       "    </tr>\n",
       "    <tr>\n",
       "      <th>4</th>\n",
       "      <td>5</td>\n",
       "      <td>France</td>\n",
       "      <td>Left-footed</td>\n",
       "      <td>Yes</td>\n",
       "      <td>13.829233</td>\n",
       "      <td>6.048072</td>\n",
       "      <td>29.887563</td>\n",
       "      <td>0.582982</td>\n",
       "      <td>0.105319</td>\n",
       "      <td>0.591485</td>\n",
       "      <td>75.565531</td>\n",
       "      <td>54.982158</td>\n",
       "      <td>13.165708</td>\n",
       "      <td>37.859323</td>\n",
       "      <td>8.465658</td>\n",
       "      <td>0.701638</td>\n",
       "      <td>0.906538</td>\n",
       "      <td>8.414915</td>\n",
       "      <td>6.665333</td>\n",
       "    </tr>\n",
       "  </tbody>\n",
       "</table>\n",
       "</div>"
      ],
      "text/plain": [
       "   Striker_ID Nationality    Footedness Marital Status  Goals Scored  \\\n",
       "0           1       Spain   Left-footed             No     17.483571   \n",
       "1           2      France   Left-footed            Yes     14.308678   \n",
       "2           3     Germany   Left-footed             No     18.238443   \n",
       "3           4      France  Right-footed             No     22.615149   \n",
       "4           5      France   Left-footed            Yes     13.829233   \n",
       "\n",
       "     Assists  Shots on Target  Shot Accuracy  Conversion Rate  \\\n",
       "0  10.778533        34.795488       0.677836         0.166241   \n",
       "1  13.728250        31.472436       0.544881         0.192774   \n",
       "2   3.804297        25.417413       0.518180         0.160379   \n",
       "3   9.688908        20.471443       0.599663         0.184602   \n",
       "4   6.048072        29.887563       0.582982         0.105319   \n",
       "\n",
       "   Dribbling Success  Movement off the Ball  Hold-up Play  Aerial Duels Won  \\\n",
       "0           0.757061              50.921924     71.806409         15.682532   \n",
       "1           0.796818              61.396150     53.726866         19.843983   \n",
       "2           0.666869              65.863945     60.452227         20.090084   \n",
       "3           0.638776              88.876877     60.511979         22.363152   \n",
       "4           0.591485              75.565531     54.982158         13.165708   \n",
       "\n",
       "   Defensive Contribution  Big Game Performance  Consistency  \\\n",
       "0               30.412215              6.152481     0.820314   \n",
       "1               26.474913              6.093172     0.803321   \n",
       "2               24.164116              3.408714     0.766540   \n",
       "3               44.129989              6.339820     0.611798   \n",
       "4               37.859323              8.465658     0.701638   \n",
       "\n",
       "   Penalty Success Rate  Impact on Team Performance  Off-field Conduct  \n",
       "0              0.922727                    8.570370          11.451388  \n",
       "1              0.678984                    3.444638           8.243689  \n",
       "2              0.843858                    8.429491           9.506835  \n",
       "3              0.662997                    6.532552           8.199653  \n",
       "4              0.906538                    8.414915           6.665333  "
      ]
     },
     "execution_count": 2,
     "metadata": {},
     "output_type": "execute_result"
    }
   ],
   "source": [
    "stricker_data = pd.read_excel(r'C:\\Users\\admin\\Desktop\\Udaanous_Python_file\\Stricker Python Project Dataset.xlsx')\n",
    "stricker_data.head()"
   ]
  },
  {
   "cell_type": "code",
   "execution_count": 12,
   "id": "be03a5e8-ff2e-445c-a1ed-650f2116c535",
   "metadata": {},
   "outputs": [
    {
     "name": "stdout",
     "output_type": "stream",
     "text": [
      "     Striker_ID Nationality    Footedness Marital Status  Goals Scored  \\\n",
      "0             1       Spain   Left-footed             No     17.483571   \n",
      "1             2      France   Left-footed            Yes     14.308678   \n",
      "2             3     Germany   Left-footed             No     18.238443   \n",
      "3             4      France  Right-footed             No     22.615149   \n",
      "4             5      France   Left-footed            Yes     13.829233   \n",
      "..          ...         ...           ...            ...           ...   \n",
      "495         496     England   Left-footed            Yes     17.694550   \n",
      "496         497     Germany  Right-footed            Yes      9.813769   \n",
      "497         498     England   Left-footed            Yes     14.048307   \n",
      "498         499     England  Right-footed            Yes     10.621909   \n",
      "499         500     England   Left-footed             No      8.086001   \n",
      "\n",
      "       Assists  Shots on Target  Shot Accuracy  Conversion Rate  \\\n",
      "0    10.778533        34.795488       0.677836         0.166241   \n",
      "1    13.728250        31.472436       0.544881         0.192774   \n",
      "2     3.804297        25.417413       0.518180         0.160379   \n",
      "3     9.688908        20.471443       0.599663         0.184602   \n",
      "4     6.048072        29.887563       0.582982         0.105319   \n",
      "..         ...              ...            ...              ...   \n",
      "495   7.156699        39.042650       0.707015         0.240660   \n",
      "496  13.393060        39.430525       0.597348         0.186052   \n",
      "497   9.922529        33.458564       0.511813         0.186012   \n",
      "498   6.286463        32.168438       0.583693         0.239519   \n",
      "499   9.717748        29.147689       0.525510         0.217003   \n",
      "\n",
      "     Dribbling Success  Movement off the Ball  Hold-up Play  Aerial Duels Won  \\\n",
      "0             0.757061              50.921924     71.806409         15.682532   \n",
      "1             0.796818              61.396150     53.726866         19.843983   \n",
      "2             0.666869              65.863945     60.452227         20.090084   \n",
      "3             0.638776              88.876877     60.511979         22.363152   \n",
      "4             0.591485              75.565531     54.982158         13.165708   \n",
      "..                 ...                    ...           ...               ...   \n",
      "495           0.707748              89.351540     60.284576         28.386885   \n",
      "496           0.725775              78.155010     39.221882         15.974141   \n",
      "497           0.575824              69.519115     56.797022         25.384241   \n",
      "498           0.733418              68.168495     76.433782          9.151613   \n",
      "499           0.684474              66.433269     63.606479         14.029053   \n",
      "\n",
      "     Defensive Contribution  Big Game Performance  Consistency  \\\n",
      "0                 30.412215              6.152481     0.820314   \n",
      "1                 26.474913              6.093172     0.803321   \n",
      "2                 24.164116              3.408714     0.766540   \n",
      "3                 44.129989              6.339820     0.611798   \n",
      "4                 37.859323              8.465658     0.701638   \n",
      "..                      ...                   ...          ...   \n",
      "495               39.510350              4.448635     0.767147   \n",
      "496               47.114106              6.742907     0.865265   \n",
      "497               71.129102              5.696650     0.628260   \n",
      "498               48.080362              2.611235     0.796795   \n",
      "499               31.519344             10.198942     0.632972   \n",
      "\n",
      "     Penalty Success Rate  Impact on Team Performance  Off-field Conduct  \n",
      "0                0.922727                    8.570370          11.451388  \n",
      "1                0.678984                    3.444638           8.243689  \n",
      "2                0.843858                    8.429491           9.506835  \n",
      "3                0.662997                    6.532552           8.199653  \n",
      "4                0.906538                    8.414915           6.665333  \n",
      "..                    ...                         ...                ...  \n",
      "495              0.770213                    5.999478          12.419711  \n",
      "496              0.876903                    5.967767           8.653989  \n",
      "497              0.747261                   11.249112           6.329751  \n",
      "498              0.799489                    1.452370          11.305826  \n",
      "499              0.839876                    6.640761          12.155555  \n",
      "\n",
      "[500 rows x 19 columns]\n"
     ]
    }
   ],
   "source": [
    "# # creating dataframe\n",
    "df = pd.DataFrame(stricker_data)\n",
    "print(df)"
   ]
  },
  {
   "cell_type": "code",
   "execution_count": 13,
   "id": "800e0c14-97ae-4e2d-b094-27492c7b988a",
   "metadata": {},
   "outputs": [
    {
     "name": "stdout",
     "output_type": "stream",
     "text": [
      "(500, 19)\n"
     ]
    }
   ],
   "source": [
    "# # checking row and columns count\n",
    "print(df.shape)"
   ]
  },
  {
   "cell_type": "code",
   "execution_count": 14,
   "id": "1c39a0ec-a4c2-47c8-89ab-7a52e280fca6",
   "metadata": {},
   "outputs": [
    {
     "name": "stdout",
     "output_type": "stream",
     "text": [
      "Striker_ID                    0\n",
      "Nationality                   0\n",
      "Footedness                    0\n",
      "Marital Status                0\n",
      "Goals Scored                  0\n",
      "Assists                       0\n",
      "Shots on Target               0\n",
      "Shot Accuracy                 0\n",
      "Conversion Rate               0\n",
      "Dribbling Success             0\n",
      "Movement off the Ball         6\n",
      "Hold-up Play                  0\n",
      "Aerial Duels Won              0\n",
      "Defensive Contribution        0\n",
      "Big Game Performance          2\n",
      "Consistency                   0\n",
      "Penalty Success Rate          5\n",
      "Impact on Team Performance    0\n",
      "Off-field Conduct             0\n",
      "dtype: int64\n"
     ]
    }
   ],
   "source": [
    "# # find out missing values column \n",
    "missing_data = df.isnull().sum()\n",
    "print(missing_data)"
   ]
  },
  {
   "cell_type": "code",
   "execution_count": 15,
   "id": "bffda2a2-9f25-4f8a-bbb1-d92088c6af4c",
   "metadata": {},
   "outputs": [
    {
     "name": "stdout",
     "output_type": "stream",
     "text": [
      "0\n"
     ]
    }
   ],
   "source": [
    "# # Checking duplicate values in dataset\n",
    "print(df.duplicated().sum())"
   ]
  },
  {
   "cell_type": "code",
   "execution_count": 7,
   "id": "b46b140e-95b8-4c8a-88d4-da9c47be1837",
   "metadata": {},
   "outputs": [],
   "source": [
    "# deleting blank values"
   ]
  },
  {
   "cell_type": "code",
   "execution_count": 21,
   "id": "3cd9f757-38eb-4e1d-b451-9fbb32434ca5",
   "metadata": {},
   "outputs": [
    {
     "name": "stdout",
     "output_type": "stream",
     "text": [
      "     Striker_ID Nationality    Footedness Marital Status  Goals Scored  \\\n",
      "0             1       Spain   Left-footed             No     17.483571   \n",
      "1             2      France   Left-footed            Yes     14.308678   \n",
      "2             3     Germany   Left-footed             No     18.238443   \n",
      "3             4      France  Right-footed             No     22.615149   \n",
      "4             5      France   Left-footed            Yes     13.829233   \n",
      "..          ...         ...           ...            ...           ...   \n",
      "495         496     England   Left-footed            Yes     17.694550   \n",
      "496         497     Germany  Right-footed            Yes      9.813769   \n",
      "497         498     England   Left-footed            Yes     14.048307   \n",
      "498         499     England  Right-footed            Yes     10.621909   \n",
      "499         500     England   Left-footed             No      8.086001   \n",
      "\n",
      "       Assists  Shots on Target  Shot Accuracy  Conversion Rate  \\\n",
      "0    10.778533        34.795488       0.677836         0.166241   \n",
      "1    13.728250        31.472436       0.544881         0.192774   \n",
      "2     3.804297        25.417413       0.518180         0.160379   \n",
      "3     9.688908        20.471443       0.599663         0.184602   \n",
      "4     6.048072        29.887563       0.582982         0.105319   \n",
      "..         ...              ...            ...              ...   \n",
      "495   7.156699        39.042650       0.707015         0.240660   \n",
      "496  13.393060        39.430525       0.597348         0.186052   \n",
      "497   9.922529        33.458564       0.511813         0.186012   \n",
      "498   6.286463        32.168438       0.583693         0.239519   \n",
      "499   9.717748        29.147689       0.525510         0.217003   \n",
      "\n",
      "     Dribbling Success  Movement off the Ball  Hold-up Play  Aerial Duels Won  \\\n",
      "0             0.757061              50.921924     71.806409         15.682532   \n",
      "1             0.796818              61.396150     53.726866         19.843983   \n",
      "2             0.666869              65.863945     60.452227         20.090084   \n",
      "3             0.638776              88.876877     60.511979         22.363152   \n",
      "4             0.591485              75.565531     54.982158         13.165708   \n",
      "..                 ...                    ...           ...               ...   \n",
      "495           0.707748              89.351540     60.284576         28.386885   \n",
      "496           0.725775              78.155010     39.221882         15.974141   \n",
      "497           0.575824              69.519115     56.797022         25.384241   \n",
      "498           0.733418              68.168495     76.433782          9.151613   \n",
      "499           0.684474              66.433269     63.606479         14.029053   \n",
      "\n",
      "     Defensive Contribution  Big Game Performance  Consistency  \\\n",
      "0                 30.412215              6.152481     0.820314   \n",
      "1                 26.474913              6.093172     0.803321   \n",
      "2                 24.164116              3.408714     0.766540   \n",
      "3                 44.129989              6.339820     0.611798   \n",
      "4                 37.859323              8.465658     0.701638   \n",
      "..                      ...                   ...          ...   \n",
      "495               39.510350              4.448635     0.767147   \n",
      "496               47.114106              6.742907     0.865265   \n",
      "497               71.129102              5.696650     0.628260   \n",
      "498               48.080362              2.611235     0.796795   \n",
      "499               31.519344             10.198942     0.632972   \n",
      "\n",
      "     Penalty Success Rate  Impact on Team Performance  Off-field Conduct  \n",
      "0                0.922727                    8.570370          11.451388  \n",
      "1                0.678984                    3.444638           8.243689  \n",
      "2                0.843858                    8.429491           9.506835  \n",
      "3                0.662997                    6.532552           8.199653  \n",
      "4                0.906538                    8.414915           6.665333  \n",
      "..                    ...                         ...                ...  \n",
      "495              0.770213                    5.999478          12.419711  \n",
      "496              0.876903                    5.967767           8.653989  \n",
      "497              0.747261                   11.249112           6.329751  \n",
      "498              0.799489                    1.452370          11.305826  \n",
      "499              0.839876                    6.640761          12.155555  \n",
      "\n",
      "[492 rows x 19 columns]\n"
     ]
    }
   ],
   "source": [
    "deleting_blank_values = df.dropna()\n",
    "print(deleting_blank_values)\n",
    "\n",
    "df.dropna(inplace=True)"
   ]
  },
  {
   "cell_type": "code",
   "execution_count": 22,
   "id": "f7976e75-9b4a-48b7-b50b-95791a15f165",
   "metadata": {},
   "outputs": [
    {
     "name": "stdout",
     "output_type": "stream",
     "text": [
      "Striker_ID                    0\n",
      "Nationality                   0\n",
      "Footedness                    0\n",
      "Marital Status                0\n",
      "Goals Scored                  0\n",
      "Assists                       0\n",
      "Shots on Target               0\n",
      "Shot Accuracy                 0\n",
      "Conversion Rate               0\n",
      "Dribbling Success             0\n",
      "Movement off the Ball         0\n",
      "Hold-up Play                  0\n",
      "Aerial Duels Won              0\n",
      "Defensive Contribution        0\n",
      "Big Game Performance          0\n",
      "Consistency                   0\n",
      "Penalty Success Rate          0\n",
      "Impact on Team Performance    0\n",
      "Off-field Conduct             0\n",
      "dtype: int64\n"
     ]
    }
   ],
   "source": [
    "# # chcking again blank values \n",
    "blank_values= df.isnull().sum()\n",
    "print(blank_values)"
   ]
  },
  {
   "cell_type": "markdown",
   "id": "68ae5717-f322-4f7a-925b-fabdeef67b4a",
   "metadata": {},
   "source": [
    "# 1. What is the maximum goal scored by an individual striker?"
   ]
  },
  {
   "cell_type": "code",
   "execution_count": 79,
   "id": "95f7127b-097c-4650-80a4-01df4e89d23b",
   "metadata": {},
   "outputs": [
    {
     "name": "stdout",
     "output_type": "stream",
     "text": [
      "The maximum Goal Scored is  34.26365745327361\n"
     ]
    }
   ],
   "source": [
    "max_goals = df[\"Goals Scored\"].max()\n",
    "print(\"The maximum Goal Scored is \",max_goals)"
   ]
  },
  {
   "cell_type": "markdown",
   "id": "816dd254-3823-4741-bf7e-b4cf530a3e98",
   "metadata": {},
   "source": [
    "# 2. What is the portion of Right-footed strikers within the dataset?"
   ]
  },
  {
   "cell_type": "code",
   "execution_count": 77,
   "id": "a42302d2-8d28-4c4b-8601-b6fcbe89bbe7",
   "metadata": {},
   "outputs": [
    {
     "name": "stdout",
     "output_type": "stream",
     "text": [
      "Portion of Right-footed strikers is 53.66%\n"
     ]
    }
   ],
   "source": [
    "right_footed_count = df[df[\"Footedness\"] == \"Right-footed\"].shape[0]\n",
    "total_strikers = df.shape[0]\n",
    "\n",
    "portion_right_footed = (right_footed_count / total_strikers) * 100\n",
    "print(f\"Portion of Right-footed strikers is {portion_right_footed:.2f}%\")"
   ]
  },
  {
   "cell_type": "markdown",
   "id": "5b48edbe-ff00-4fd4-92cc-61b361c96545",
   "metadata": {},
   "source": [
    "# 3. Which nationality strikers have the highest average number of goals scored?"
   ]
  },
  {
   "cell_type": "code",
   "execution_count": 76,
   "id": "fd8ced04-fc94-4be9-be3d-3a302be7e7b3",
   "metadata": {},
   "outputs": [
    {
     "name": "stdout",
     "output_type": "stream",
     "text": [
      "Nationality with the highest average goals scored for  Brazil is 15.73 goals on average\n"
     ]
    }
   ],
   "source": [
    "highest_goal = df.groupby('Nationality')['Goals Scored'].mean().idxmax()\n",
    "max_avg_goals = df.groupby(\"Nationality\")[\"Goals Scored\"].mean().max()\n",
    "print(f\"Nationality with the highest average goals scored for  {highest_goal} is {max_avg_goals:.2f} goals on average\")"
   ]
  },
  {
   "cell_type": "markdown",
   "id": "cb06b551-1213-4708-b27b-28734fd9867a",
   "metadata": {},
   "source": [
    "# 4. What is the average conversion rate for left-footed player?"
   ]
  },
  {
   "cell_type": "code",
   "execution_count": 74,
   "id": "23ba8158-8c99-43b9-9475-209fc753f3b4",
   "metadata": {},
   "outputs": [
    {
     "name": "stdout",
     "output_type": "stream",
     "text": [
      "Average Conversion Rate for Left-footed players is 0.20\n"
     ]
    }
   ],
   "source": [
    "avg_conversion_left = df[df[\"Footedness\"] == \"Left-footed\"][\"Conversion Rate\"].mean()\n",
    "print(f\"Average Conversion Rate for Left-footed players is {avg_conversion_left:.2f}\")"
   ]
  },
  {
   "cell_type": "markdown",
   "id": "91cb5faa-2fd9-4830-bb7f-11a2eb9b1a8c",
   "metadata": {},
   "source": [
    "# 5. How many left footed players are from France?"
   ]
  },
  {
   "cell_type": "code",
   "execution_count": 85,
   "id": "5bc9b1bc-1a3e-442d-b71c-20ab0125e393",
   "metadata": {},
   "outputs": [
    {
     "name": "stdout",
     "output_type": "stream",
     "text": [
      "Number of Left-footed players from France is 41\n"
     ]
    }
   ],
   "source": [
    "left_footed_france = df[(df[\"Footedness\"] == \"Left-footed\") & (df[\"Nationality\"] == \"France\")].shape[0]\n",
    "print(f\"Number of Left-footed players from France is {left_footed_france}\")"
   ]
  },
  {
   "cell_type": "markdown",
   "id": "62536561-1381-44e9-bd23-be9a93f7cc18",
   "metadata": {},
   "source": [
    "# 6.\tWhat is the correlation co-efficient between hold up play and consistency score?"
   ]
  },
  {
   "cell_type": "code",
   "execution_count": 99,
   "id": "fd4a11b6-27eb-4b9d-b03d-803a534b295f",
   "metadata": {},
   "outputs": [
    {
     "name": "stdout",
     "output_type": "stream",
     "text": [
      "Correlation Coefficient between Hold-up Play and Consistency \n",
      "              Hold-up Play  Consistency\n",
      "Hold-up Play       1.00000      0.14408\n",
      "Consistency        0.14408      1.00000\n"
     ]
    }
   ],
   "source": [
    "correlation = df[['Hold-up Play', 'Consistency']].corr()\n",
    "print(f\"Correlation Coefficient between Hold-up Play and Consistency \\n{correlation}\")"
   ]
  },
  {
   "cell_type": "markdown",
   "id": "629d61f3-c6e9-4412-b1bc-21be9a6e57f0",
   "metadata": {},
   "source": [
    "# 7.\tWhat is the p-value for the shapiro wilk test of consistency score? Is it normally distributed?"
   ]
  },
  {
   "cell_type": "code",
   "execution_count": 102,
   "id": "9f753c5b-dda1-4ee8-b7aa-47ce753e6614",
   "metadata": {},
   "outputs": [
    {
     "name": "stdout",
     "output_type": "stream",
     "text": [
      "Shapiro-Wilk Test p-value: 0.44\n",
      "The Consistency score is normally distributed.\n"
     ]
    }
   ],
   "source": [
    "from scipy.stats import shapiro\n",
    "\n",
    "# Perform the Shapiro-Wilk test\n",
    "stat, p_value = shapiro(df[\"Consistency\"])\n",
    "\n",
    "# Print the p-value\n",
    "print(f\"Shapiro-Wilk Test p-value: {p_value:.2f}\")\n",
    "\n",
    "# Check normality\n",
    "if p_value > 0.05:\n",
    "    print(\"The Consistency score is normally distributed.\")\n",
    "else:\n",
    "    print(\"The Consistency score is NOT normally distributed.\")\n"
   ]
  },
  {
   "cell_type": "markdown",
   "id": "95b5080e-87e0-410b-9df5-f70520a5bebb",
   "metadata": {},
   "source": [
    "# 8.\tWhat is the p-value for the levene's test of ANOVA analysis? Is the heteroscedasticity assumed?"
   ]
  },
  {
   "cell_type": "code",
   "execution_count": 103,
   "id": "456a7405-8e7f-49da-97ee-0b3c39ebfdb6",
   "metadata": {},
   "outputs": [
    {
     "name": "stdout",
     "output_type": "stream",
     "text": [
      "Levene's Test p-value: 0.0000\n",
      "Unequal variances assumed (Heteroscedasticity).\n"
     ]
    }
   ],
   "source": [
    "from scipy.stats import levene\n",
    "\n",
    "# Perform Levene's test\n",
    "stat, p_value = levene(df[\"Consistency\"], df[\"Hold-up Play\"])\n",
    "\n",
    "# Print the p-value\n",
    "print(f\"Levene's Test p-value: {p_value:.4f}\")\n",
    "\n",
    "# Check heteroscedasticity assumption\n",
    "if p_value > 0.05:\n",
    "    print(\"Equal variances assumed (Homoscedasticity).\")\n",
    "else:\n",
    "    print(\"Unequal variances assumed (Heteroscedasticity).\")\n"
   ]
  },
  {
   "cell_type": "markdown",
   "id": "3528c87d-fe34-4ada-9181-98a9068ebbd8",
   "metadata": {},
   "source": [
    "# 9.\tIs there any significant correlation between strikers' Hold-up play and consistency rate?"
   ]
  },
  {
   "cell_type": "code",
   "execution_count": 117,
   "id": "0baff99b-2d6b-4adc-9436-80d0849cfb99",
   "metadata": {},
   "outputs": [
    {
     "name": "stdout",
     "output_type": "stream",
     "text": [
      "Pearson Correlation Coefficient: 0.1441\n",
      "P-value: 0.0014\n",
      "There is significance correlation.\n"
     ]
    }
   ],
   "source": [
    "from scipy.stats import pearsonr\n",
    "\n",
    "# calculating Pearson correlation and p value\n",
    "corr_coeff, p_value = pearsonr(df[\"Hold-up Play\"], df[\"Consistency\"])\n",
    "\n",
    "print(f\"Pearson Correlation Coefficient: {corr_coeff:.4f}\")\n",
    "print(f\"P-value: {p_value:.4f}\")\n",
    "\n",
    "# checking significance\n",
    "if p_value < 0.05:\n",
    "    print(\"There is significance correlation.\")\n",
    "else:\n",
    "    print(\"There is no significance correlation.\")\n",
    "    "
   ]
  },
  {
   "cell_type": "markdown",
   "id": "41e30d49-f20d-4e1f-99bf-0e07f03e1537",
   "metadata": {},
   "source": [
    "# 10.\tDescribe the beta value of Hold-up Play you have found in your regression analysis."
   ]
  },
  {
   "cell_type": "code",
   "execution_count": 118,
   "id": "256fea58-6dd3-47de-83a0-53677a3e9828",
   "metadata": {},
   "outputs": [
    {
     "name": "stdout",
     "output_type": "stream",
     "text": [
      "                            OLS Regression Results                            \n",
      "==============================================================================\n",
      "Dep. Variable:            Consistency   R-squared:                       0.021\n",
      "Model:                            OLS   Adj. R-squared:                  0.019\n",
      "Method:                 Least Squares   F-statistic:                     10.39\n",
      "Date:                Mon, 17 Mar 2025   Prob (F-statistic):            0.00135\n",
      "Time:                        15:14:31   Log-Likelihood:                 420.32\n",
      "No. Observations:                 492   AIC:                            -836.6\n",
      "Df Residuals:                     490   BIC:                            -828.2\n",
      "Df Model:                           1                                         \n",
      "Covariance Type:            nonrobust                                         \n",
      "================================================================================\n",
      "                   coef    std err          t      P>|t|      [0.025      0.975]\n",
      "--------------------------------------------------------------------------------\n",
      "const            0.6561      0.028     23.654      0.000       0.602       0.711\n",
      "Hold-up Play     0.0015      0.000      3.223      0.001       0.001       0.002\n",
      "==============================================================================\n",
      "Omnibus:                        2.044   Durbin-Watson:                   2.136\n",
      "Prob(Omnibus):                  0.360   Jarque-Bera (JB):                2.044\n",
      "Skew:                          -0.111   Prob(JB):                        0.360\n",
      "Kurtosis:                       2.775   Cond. No.                         362.\n",
      "==============================================================================\n",
      "\n",
      "Notes:\n",
      "[1] Standard Errors assume that the covariance matrix of the errors is correctly specified.\n"
     ]
    }
   ],
   "source": [
    "import statsmodels.api as sm\n",
    "\n",
    "x = df['Hold-up Play']\n",
    "y = df['Consistency']\n",
    "\n",
    "x = sm.add_constant(x)\n",
    "model = sm.OLS(y,x).fit()\n",
    "\n",
    "print(model.summary())\n"
   ]
  },
  {
   "cell_type": "markdown",
   "id": "e833b7a7-7270-4007-be99-bc4fa72e1aca",
   "metadata": {},
   "source": [
    "# 11.\tWhat is the average Total contribution score you get for the best strikers?"
   ]
  },
  {
   "cell_type": "code",
   "execution_count": 120,
   "id": "79d6b7f9-7d3e-409f-9f74-76960b0fe0b9",
   "metadata": {},
   "outputs": [
    {
     "name": "stdout",
     "output_type": "stream",
     "text": [
      "Average Total Contribution Score for Best Strikers: 39.71\n"
     ]
    }
   ],
   "source": [
    "# Define \"Best Strikers\" ( Top 10% based on Goals Scored)\n",
    "\n",
    "threshold = df[\"Goals Scored\"].quantile(0.90)  # 90th percentile\n",
    "best_strikers = df[df[\"Goals Scored\"] >= threshold]\n",
    "\n",
    "# Calculate Average Total Contribution Score\n",
    "average_contribution = best_strikers[\"Defensive Contribution\"].mean()\n",
    "\n",
    "print(f\"Average Total Contribution Score for Best Strikers: {average_contribution:.2f}\")\n"
   ]
  },
  {
   "cell_type": "code",
   "execution_count": null,
   "id": "fed06da4-4dc1-4eb7-aae3-838d71ab109f",
   "metadata": {},
   "outputs": [],
   "source": []
  }
 ],
 "metadata": {
  "kernelspec": {
   "display_name": "Python 3 (ipykernel)",
   "language": "python",
   "name": "python3"
  },
  "language_info": {
   "codemirror_mode": {
    "name": "ipython",
    "version": 3
   },
   "file_extension": ".py",
   "mimetype": "text/x-python",
   "name": "python",
   "nbconvert_exporter": "python",
   "pygments_lexer": "ipython3",
   "version": "3.13.2"
  }
 },
 "nbformat": 4,
 "nbformat_minor": 5
}
